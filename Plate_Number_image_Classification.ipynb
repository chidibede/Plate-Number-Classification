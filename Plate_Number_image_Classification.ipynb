{
 "cells": [
  {
   "cell_type": "markdown",
   "metadata": {},
   "source": [
    "## Plate Number Image Classification"
   ]
  },
  {
   "cell_type": "code",
   "execution_count": 1,
   "metadata": {},
   "outputs": [],
   "source": [
    "# Import the libraries needed\n",
    "import numpy as np\n",
    "import matplotlib.pyplot as plt\n",
    "import os\n",
    "import cv2\n",
    "import random"
   ]
  },
  {
   "cell_type": "code",
   "execution_count": 2,
   "metadata": {},
   "outputs": [],
   "source": [
    "# Variable Declarations to be used for image dataset creation\n",
    "folders = [\"negative_images\", \"plate_number\"]\n",
    "file_directory = \"C:\\\\Users\\\\Chidibede\\\\Desktop\\\\HNG\\\\Dataset\\\\plate numbers images\"\n",
    "img_size = 70\n",
    "image_data = []\n",
    "\n",
    "\n",
    "# function to create the image training data\n",
    "def create_image_data():\n",
    "    for folder in folders:\n",
    "        target = folders.index(folder)\n",
    "        path = os.path.join(file_directory, folder)\n",
    "        for file in os.listdir(path):\n",
    "            try:\n",
    "                complete_path = os.path.join(path, file)\n",
    "                img = cv2.imread(complete_path, cv2.IMREAD_GRAYSCALE)\n",
    "                img_resized = cv2.resize(img, (img_size, img_size))\n",
    "                image_data.append([img_resized, target])\n",
    "            except Exception as e:\n",
    "                print(e)\n"
   ]
  },
  {
   "cell_type": "code",
   "execution_count": 3,
   "metadata": {},
   "outputs": [
    {
     "name": "stdout",
     "output_type": "stream",
     "text": [
      "The shape of the features is  (100, 4900)\n"
     ]
    }
   ],
   "source": [
    "# create the image data by calling the function\n",
    "create_image_data()\n",
    "\n",
    "# shuffle the data\n",
    "import random\n",
    "random.shuffle(image_data)\n",
    "\n",
    "# Create the features and labels\n",
    "X = []\n",
    "y = []\n",
    "\n",
    "for feature, label in image_data:\n",
    "    X.append(feature)\n",
    "    y.append(label)\n",
    "\n",
    "# Convert to a numpy array and reshape the feature array\n",
    "X = np.array(X)\n",
    "X = np.array(X)\n",
    "dataset_size = len(image_data)\n",
    "X = X.reshape(dataset_size,-1)\n",
    "\n",
    "# check the new shape\n",
    "print(\"The shape of the features is \", X.shape)"
   ]
  },
  {
   "cell_type": "code",
   "execution_count": 4,
   "metadata": {},
   "outputs": [],
   "source": [
    "# Create the testing data of 25 plate numbers and 25 non plate numbers\n",
    "test_folders = [\"test_negative_images\", \"test_plate_numbers\"]\n",
    "test_file_directory = \"C:\\\\Users\\\\Chidibede\\\\Desktop\\\\HNG\\\\Dataset\\\\plate numbers images\\\\test_data\"\n",
    "img_size = 70\n",
    "test_image_data = []\n",
    "\n",
    "\n",
    "# function to create the image data\n",
    "def create_test_image_data():\n",
    "    for test_folder in test_folders:\n",
    "        target = test_folders.index(test_folder)\n",
    "        path = os.path.join(test_file_directory, test_folder)\n",
    "        for file in os.listdir(path):\n",
    "            try:\n",
    "                complete_path = os.path.join(path, file)\n",
    "                img = cv2.imread(complete_path, cv2.IMREAD_GRAYSCALE)\n",
    "                img_resized = cv2.resize(img, (img_size, img_size))\n",
    "                test_image_data.append([img_resized, target])\n",
    "            except Exception as e:\n",
    "                print(e)"
   ]
  },
  {
   "cell_type": "code",
   "execution_count": 5,
   "metadata": {},
   "outputs": [],
   "source": [
    "create_test_image_data()"
   ]
  },
  {
   "cell_type": "code",
   "execution_count": 6,
   "metadata": {},
   "outputs": [],
   "source": [
    "# Shuffle\n",
    "random.shuffle(test_image_data)"
   ]
  },
  {
   "cell_type": "code",
   "execution_count": 7,
   "metadata": {},
   "outputs": [
    {
     "name": "stdout",
     "output_type": "stream",
     "text": [
      "the shape of X_test is  (50, 4900)\n"
     ]
    }
   ],
   "source": [
    "# create the test features and labels\n",
    "# Create the features and labels\n",
    "X_test = []\n",
    "y_test = []\n",
    "\n",
    "for feature, label in test_image_data:\n",
    "    X_test.append(feature)\n",
    "    y_test.append(label)\n",
    "\n",
    "# Convert to a numpy array and reshape the feature array\n",
    "X_test = np.array(X_test)\n",
    "dataset_size = len(test_image_data)\n",
    "X_test = X_test.reshape(dataset_size,-1)\n",
    "print(\"the shape of X_test is \", X_test.shape)"
   ]
  },
  {
   "cell_type": "code",
   "execution_count": 8,
   "metadata": {},
   "outputs": [
    {
     "data": {
      "text/plain": [
       "SVC(C=1.0, cache_size=200, class_weight=None, coef0=0.0,\n",
       "    decision_function_shape='ovr', degree=3, gamma='auto_deprecated',\n",
       "    kernel='linear', max_iter=-1, probability=False, random_state=None,\n",
       "    shrinking=True, tol=0.001, verbose=False)"
      ]
     },
     "execution_count": 8,
     "metadata": {},
     "output_type": "execute_result"
    }
   ],
   "source": [
    "# Training the dataset using support vector machine\n",
    "\n",
    "# import\n",
    "from sklearn import svm\n",
    "\n",
    "# instantiate\n",
    "svm_model = svm.SVC(kernel='linear')\n",
    "\n",
    "# fit\n",
    "svm_model.fit(X, y)\n",
    "\n"
   ]
  },
  {
   "cell_type": "code",
   "execution_count": 9,
   "metadata": {},
   "outputs": [],
   "source": [
    "# Classification accuracy\n",
    "y_pred = svm_model.predict(X_test)"
   ]
  },
  {
   "cell_type": "code",
   "execution_count": 10,
   "metadata": {
    "scrolled": true
   },
   "outputs": [
    {
     "name": "stdout",
     "output_type": "stream",
     "text": [
      "0.74\n"
     ]
    }
   ],
   "source": [
    "from sklearn import metrics\n",
    "print(metrics.accuracy_score(y_test, y_pred))\n"
   ]
  },
  {
   "cell_type": "code",
   "execution_count": 11,
   "metadata": {},
   "outputs": [
    {
     "data": {
      "text/plain": [
       "LogisticRegressionCV(Cs=10, class_weight=None, cv=5, dual=False,\n",
       "                     fit_intercept=True, intercept_scaling=1.0, l1_ratios=None,\n",
       "                     max_iter=300, multi_class='auto', n_jobs=None,\n",
       "                     penalty='l2', random_state=None, refit=True, scoring=None,\n",
       "                     solver='lbfgs', tol=0.0001, verbose=0)"
      ]
     },
     "execution_count": 11,
     "metadata": {},
     "output_type": "execute_result"
    }
   ],
   "source": [
    "# Choose a new model\n",
    "\n",
    "# import\n",
    "from sklearn.linear_model import LogisticRegressionCV\n",
    "\n",
    "#  instantiate\n",
    "logreg = LogisticRegressionCV(multi_class=\"auto\", max_iter=300, cv=5)\n",
    "\n",
    "# Train model\n",
    "logreg.fit(X, y)"
   ]
  },
  {
   "cell_type": "code",
   "execution_count": 12,
   "metadata": {},
   "outputs": [
    {
     "name": "stdout",
     "output_type": "stream",
     "text": [
      "0.72\n"
     ]
    }
   ],
   "source": [
    "# Predict\n",
    "y_pred = logreg.predict(X_test)\n",
    "\n",
    "# Evaluate classification accuracy\n",
    "print(metrics.accuracy_score(y_test, y_pred))"
   ]
  },
  {
   "cell_type": "code",
   "execution_count": null,
   "metadata": {},
   "outputs": [],
   "source": []
  }
 ],
 "metadata": {
  "kernelspec": {
   "display_name": "Python 3",
   "language": "python",
   "name": "python3"
  },
  "language_info": {
   "codemirror_mode": {
    "name": "ipython",
    "version": 3
   },
   "file_extension": ".py",
   "mimetype": "text/x-python",
   "name": "python",
   "nbconvert_exporter": "python",
   "pygments_lexer": "ipython3",
   "version": "3.7.3"
  }
 },
 "nbformat": 4,
 "nbformat_minor": 2
}
